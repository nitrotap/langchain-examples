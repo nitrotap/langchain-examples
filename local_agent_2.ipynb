{
 "cells": [
  {
   "cell_type": "code",
   "execution_count": 1,
   "metadata": {},
   "outputs": [],
   "source": [
    "% % capture - -no-stderr\n",
    "%pip install - -upgrade - -quiet langchain langchain-community beautifulsoup4\n",
    "%pip install - qU langchain_chroma\n",
    "\n",
    "# Local inference and embeddings via Ollama\n",
    "%pip install - qU langchain_ollama\n"
   ]
  },
  {
   "cell_type": "code",
   "execution_count": 4,
   "metadata": {},
   "outputs": [],
   "source": [
    "os.environ[\"LANGCHAIN_TRACING_V2\"] = \"true\"\n",
    "if not os.environ.get(\"LANGCHAIN_API_KEY\"):\n",
    "    os.environ[\"LANGCHAIN_API_KEY\"] = getpass.getpass()\n"
   ]
  },
  {
   "cell_type": "code",
   "execution_count": 2,
   "metadata": {},
   "outputs": [
    {
     "name": "stderr",
     "output_type": "stream",
     "text": [
      "/Users/kjevaji/Library/Python/3.9/lib/python/site-packages/urllib3/__init__.py:35: NotOpenSSLWarning: urllib3 v2 only supports OpenSSL 1.1.1+, currently the 'ssl' module is compiled with 'LibreSSL 2.8.3'. See: https://github.com/urllib3/urllib3/issues/3020\n",
      "  warnings.warn(\n"
     ]
    },
    {
     "data": {
      "text/plain": [
       "'...Neil Armstrong. He stepped out of the lunar module Eagle and became the first person to set foot on the Moon on July 20, 1969, during the Apollo 11 mission. His famous words upon exiting the spacecraft were: \"That\\'s one small step for man, one giant leap for mankind.\"'"
      ]
     },
     "execution_count": 2,
     "metadata": {},
     "output_type": "execute_result"
    }
   ],
   "source": [
    "from langchain_ollama import OllamaLLM\n",
    "\n",
    "llm = OllamaLLM(model=\"llama3.2\")\n",
    "\n",
    "llm.invoke(\"The first man on the moon was ...\")\n"
   ]
  },
  {
   "cell_type": "code",
   "execution_count": 3,
   "metadata": {},
   "outputs": [
    {
     "name": "stderr",
     "output_type": "stream",
     "text": [
      "USER_AGENT environment variable not set, consider setting it to identify your requests.\n"
     ]
    }
   ],
   "source": [
    "import bs4\n",
    "from langchain.chains import create_retrieval_chain\n",
    "from langchain.chains.combine_documents import create_stuff_documents_chain\n",
    "from langchain_community.document_loaders import WebBaseLoader\n",
    "from langchain_core.prompts import ChatPromptTemplate\n",
    "from langchain_core.vectorstores import InMemoryVectorStore\n",
    "from langchain_openai import OpenAIEmbeddings\n",
    "from langchain_text_splitters import RecursiveCharacterTextSplitter\n",
    "from langchain_chroma import Chroma\n",
    "from langchain_ollama import OllamaEmbeddings\n",
    "\n",
    "\n",
    "# 1. Load, chunk and index the contents of the blog to create a retriever.\n",
    "loader = WebBaseLoader(\n",
    "    web_paths=(\"https://blog.logrocket.com/ux-design/gestalt-laws-of-grouping/\",),\n",
    "    bs_kwargs=dict(\n",
    "        parse_only=bs4.SoupStrainer(\n",
    "            class_=(\"post-content\", \"post-title\", \"post-header\", \"lr-content\")\n",
    "        )\n",
    "    ),\n",
    ")\n",
    "docs = loader.load()\n",
    "\n",
    "text_splitter = RecursiveCharacterTextSplitter(\n",
    "    chunk_size=1000, chunk_overlap=200)\n",
    "all_splits = text_splitter.split_documents(docs)\n",
    "local_embeddings = OllamaEmbeddings(model=\"nomic-embed-text\")\n",
    "\n",
    "vectorstore = Chroma.from_documents(\n",
    "    documents=all_splits, embedding=local_embeddings)\n",
    "retriever = vectorstore.as_retriever()\n",
    "\n",
    "\n",
    "# 2. Incorporate the retriever into a question-answering chain.\n",
    "system_prompt = (\n",
    "    \"You are an assistant for question-answering tasks. \"\n",
    "    \"Use the following pieces of retrieved context to answer \"\n",
    "    \"the question. If you don't know the answer, say that you \"\n",
    "    \"don't know. Use three sentences maximum and keep the \"\n",
    "    \"answer concise.\"\n",
    "    \"\\n\\n\"\n",
    "    \"{context}\"\n",
    ")\n",
    "\n",
    "prompt = ChatPromptTemplate.from_messages(\n",
    "    [\n",
    "        (\"system\", system_prompt),\n",
    "        (\"human\", \"{input}\"),\n",
    "    ]\n",
    ")\n",
    "\n",
    "question_answer_chain = create_stuff_documents_chain(llm, prompt)\n",
    "rag_chain = create_retrieval_chain(retriever, question_answer_chain)\n"
   ]
  },
  {
   "cell_type": "code",
   "execution_count": 4,
   "metadata": {},
   "outputs": [],
   "source": [
    "from langchain.chains import create_history_aware_retriever\n",
    "from langchain_core.prompts import MessagesPlaceholder\n",
    "\n",
    "contextualize_q_system_prompt = (\n",
    "    \"Given a chat history and the latest user question \"\n",
    "    \"which might reference context in the chat history, \"\n",
    "    \"formulate a standalone question which can be understood \"\n",
    "    \"without the chat history. Do NOT answer the question, \"\n",
    "    \"just reformulate it if needed and otherwise return it as is.\"\n",
    ")\n",
    "\n",
    "contextualize_q_prompt = ChatPromptTemplate.from_messages(\n",
    "    [\n",
    "        (\"system\", contextualize_q_system_prompt),\n",
    "        MessagesPlaceholder(\"chat_history\"),\n",
    "        (\"human\", \"{input}\"),\n",
    "    ]\n",
    ")\n",
    "history_aware_retriever = create_history_aware_retriever(\n",
    "    llm, retriever, contextualize_q_prompt\n",
    ")\n"
   ]
  },
  {
   "cell_type": "code",
   "execution_count": 5,
   "metadata": {},
   "outputs": [],
   "source": [
    "from langchain.chains import create_retrieval_chain\n",
    "from langchain.chains.combine_documents import create_stuff_documents_chain\n",
    "\n",
    "qa_prompt = ChatPromptTemplate.from_messages(\n",
    "    [\n",
    "        (\"system\", system_prompt),\n",
    "        MessagesPlaceholder(\"chat_history\"),\n",
    "        (\"human\", \"{input}\"),\n",
    "    ]\n",
    ")\n",
    "\n",
    "\n",
    "question_answer_chain = create_stuff_documents_chain(llm, qa_prompt)\n",
    "\n",
    "rag_chain = create_retrieval_chain(\n",
    "    history_aware_retriever, question_answer_chain)\n"
   ]
  },
  {
   "cell_type": "code",
   "execution_count": 6,
   "metadata": {},
   "outputs": [
    {
     "name": "stdout",
     "output_type": "stream",
     "text": [
      "I don't know the answer to your question about what questions to ask. However, I can provide information on the Gestalt laws of grouping, which include:\n",
      "\n",
      "1. Law of Closure: Our brains fill gaps and recognize complete objects even if parts are missing.\n",
      "2. Law of Similarity: Visual entities with similar characteristics (size, shape, color) are perceived as groups.\n",
      "\n",
      "These laws help designers group UI elements effectively.\n"
     ]
    }
   ],
   "source": [
    "from langchain_core.messages import AIMessage, HumanMessage\n",
    "\n",
    "chat_history = []\n",
    "\n",
    "question = \"Summarize all information\"\n",
    "ai_msg_1 = rag_chain.invoke({\"input\": question, \"chat_history\": chat_history})\n",
    "chat_history.extend(\n",
    "    [\n",
    "        HumanMessage(content=question),\n",
    "        AIMessage(content=ai_msg_1[\"answer\"]),\n",
    "    ]\n",
    ")\n",
    "\n",
    "second_question = \"What are three questions I can ask?\"\n",
    "ai_msg_2 = rag_chain.invoke(\n",
    "    {\"input\": second_question, \"chat_history\": chat_history})\n",
    "\n",
    "print(ai_msg_2[\"answer\"])\n"
   ]
  },
  {
   "cell_type": "code",
   "execution_count": 7,
   "metadata": {},
   "outputs": [
    {
     "name": "stdout",
     "output_type": "stream",
     "text": [
      "[HumanMessage(content='Summarize all information', additional_kwargs={}, response_metadata={}), AIMessage(content='The context discusses various principles in UI/UX design related to grouping elements. The laws include:\\n\\n1. Law of Closure: Our brains fill gaps and recognize complete objects even if parts are missing.\\n2. Law of Similarity: Visual entities with similar characteristics (size, shape, color) are perceived as groups.\\n\\nThese laws help designers group UI elements effectively, such as using proximity, connectedness, similarity, and continuity to create cohesive designs that improve user interaction and experience.', additional_kwargs={}, response_metadata={})]\n"
     ]
    }
   ],
   "source": [
    "print(chat_history)\n"
   ]
  },
  {
   "cell_type": "code",
   "execution_count": 8,
   "metadata": {},
   "outputs": [],
   "source": [
    "ai_msgs = []\n",
    "ai_msgs.append(rag_chain.invoke({\n",
    "    \"input\": \"Tell me more\",\n",
    "    \"chat_history\": chat_history\n",
    "})\n",
    ")\n"
   ]
  },
  {
   "cell_type": "code",
   "execution_count": 14,
   "metadata": {},
   "outputs": [
    {
     "name": "stdout",
     "output_type": "stream",
     "text": [
      "The Gestalt laws used in grouping UI/UX design elements include the Law of Proximity (entities close together are perceived as a group), the Law of Connectedness (visual connections between elements create groups), and the Law of Similarity (elements with similar characteristics are perceived as groups). These principles guide designers to effectively group UI elements, such as using color, size, shape, and proximity. By applying these laws, designers can create cohesive designs that improve user interaction and experience.\n"
     ]
    }
   ],
   "source": [
    "print(ai_msgs[-1][\"answer\"])"
   ]
  },
  {
   "cell_type": "code",
   "execution_count": 15,
   "metadata": {},
   "outputs": [
    {
     "name": "stdout",
     "output_type": "stream",
     "text": [
      "[Document(metadata={'source': 'https://blog.logrocket.com/ux-design/gestalt-laws-of-grouping/', 'language': 'No language found.'}, page_content=\"\\n\\n\\n\\nIn UI/UX design, grouping is a way to arrange multiple visual elements based on visual characteristics to reduce user cognitive load. So, UI/UX designers typically group similar UI elements or element collections based on various design principles to offer users productive, friendly, intuitive human-computer interaction.\\nAnd to create effective interface designs, UI/UX designers should use effective, optimal principles for grouping similar elements or segments based on proven human psychological facts.\\nGestalt psychology, founded by Max Wertheimer and two other German psychologists, introduced a set of grouping principles. These laws are based on a study that explores how the human brain processes visual patterns and complex visual entities. Almost all modern software UIs optimally adhere to these Gestalt grouping laws for creating intuitive, highly user-friendly software UI interactions.\\nIn this article, I’ll explore Gestalt laws of grouping with simple visual layouts and examples and discuss their importance in UI/UX design. I’ll also examine several case studies highlighting the effective, practical usage of Gestalt grouping laws.\\nWhat are the Gestalt laws of grouping?\\nGestalt psychology doesn’t solely explore grouping visual entities. It is a broad study of human visual perception and complex pattern recognition that introduces many design concepts for creating human-friendly visual entities, such as brand logos, signs, posters, etc. Gestalt psychology also implements several principles we can use as standard, proven design laws for effectively grouping software UI elements.\\nThe following Gestalt laws help UI/UX designers group UI elements effectively:\\nLaw of similarity\\nThe law of similarity states that visual entities with similar characteristics like size, shape, and color are perceived as groups in mind. The human brain will perceive visual entities as a complete object or a group even if items with similar characteristics are not visually connected.\\n\\nFor example, once you look at the above image, you will identify three columns since the visual elements in each column share common visual characteristics, even if they don’t have visual connections drawn.\\nHere are some scenarios where UI/UX designers use the law of similarity to improve software UIs:\\n\\nIn an ecommerce app, the product list has same-size product item cards, so the user knows every item represents a purchasable product\\nMost data tables render row cells with the same color and sometimes even make the color brighter with mouse hover to highlight cells belonging to a specific row\\nA calendar widget in a corporate software system typically uses the same color for all Sundays\\nA dashboard interface typically renders all shortcuts using the same-size icons and font to let users click them instantly\\nA navigation menu usually renders menu items using the same font, size, and color\\n\\nDesigners can also properly use the inverse of the law of similarity to differentiate or highlight several special elements from other similar elements.\\nHere are some example scenarios where designers break the law of similarity to implement intuitive, user-friendly interfaces:\\n\\nUsing a different text style for hyperlinks in a paragraph that displays every word entity using the same text style\\nUsing different visual characteristics or a signifier in a sponsored ad item of a real-estate directory\\n\\nMajor visual characteristics used with this principle, such as size, shape, and color, have different grouping powers. So, you can override grouping based on the following grouping power order:\\n\\nColor\\nSize\\nShape\\n\\nFor example, you can use similar colors to override shape-based grouping.\\nLaw of proximity\\nThe law of proximity describes that closer visual entities are perceived as similar groups in mind. The human brain identifies closer visual entities as complete objects or groups, even if each entity doesn’t share common characteristics.\\n\\n\\n\\n\\n\\n\\n\\n\\nOver 200k developers and product managers use LogRocket to create better digital experiences\\nLearn more →\\n\\n\\n\\n\\n\\nFor example, if you look at the above image, you’ll identify two visual groups, even if each group contains items with different shapes.\\nHere are some scenarios where UI/UX designers use the law of proximity to improve software UIs:\\n\\nA web search engine renders each result item with ending spaces to separate each result\\nWord processing software adds more space before a heading than after to create a new section\\nAn ecommerce app shows add to cart and buy now buttons closer to each other since both actions lead to purchasing products\\nAn online group chat app displays a profile avatar closer to a chat message to highlight the sender\\nA modern desktop website layout usually puts login/register menu items far away from the main menu items to create two menu groups\\nA restaurant app menu typically groups items based on the belonging category by separating them with proper spacing\\n\\nWhile using the law of proximity, designers should properly select the required spacing, \\u200aas invalid proximity can cause bad designs. Here are a few examples of them:\\n\\nIf designers use more space for separating the title and product thumbnail than the product card space, users may fail to identify the product name of a specific thumbnail without looking at the topmost product card\\nIf the menu item separator space is less than the space character, users may read the menu item labels incorrectly\\n\\nAlso, using extra proximity also reduces the quality of designs, so identifying the optimal proximity is a must before the design-handoff process.\\nLaw of closure\\nThe law of closure states that the human brain fills the gaps and recognizes a complete object or group, even if several visual segments are missing.\\nThe law of closure is the reason behind perceiving real-world object shapes from clouds, water, and other natural or man-made surfaces\\u200a — \\u200aour brains try to complete gaps and construct objects we already saw.\\nFor effective grouping, we can use this law by creating completely visually separating groups by partially separating them with visual segments — our brains will fill in the missing grouping boundaries and form a group.\\n\\nFor example, the above image creates a group by partially drawing a rectangular shape around several elements.\\nHere are several scenarios where UI/UX designers use the law of closure for effective grouping:\\n\\nMost video-sharing websites arrange a video item’s sub-elements to form a rectangular boundary to create a group for a video item\\nSome drawing apps render a dashed rectangle shape while selecting multiple elements, but users perceive it as a group marked with a solid rectangular shape\\nSome board or puzzle games group several board elements using a photo frame-like four-corner border, but users form a rectangle in their mind and understand the selected element group\\nModern logos and icons usually use incomplete real-world items or letters, but users understand the whole group or object as a complete element rather than multiple atomic elements, i.e., a scissor icon designed with disconnected lines\\n\\nLaw of continuity\\nThe law of continuity describes visual entities that follow the same flow or follow a line or curve are perceived as connected and similar elements. The human brain typically urges to follow ordered, continuous elements and skip other unrelated, disconnected entities.\\nDesigners can use this law by arranging similar and related elements on a continuous line for effective grouping.\\n\\nFor example, the above image’s circular shapes form a group by a continuous flow, even if the group goes closer to other shapes. Designers can use colors or styles to change the flow of continuity.\\nHere are several scenarios where UI/UX designers effectively group elements using the law of continuity:\\n\\nIn ecommerce websites, product thumbnails typically follow horizontal and vertical flows to make user interaction easier\\nProduct pricing tables and comparison data are usually displayed in tabular columns to group each pricing package or product\\nNavigation menu items are displayed in a straight line for easier access and navigation\\nFinancial apps usually display monetary values using the right alignment for easier reading and comparison\\nService cards of a modern desktop website are displayed in a horizontal line\\nThe progress of a complex form is displayed using steps that are displayed in a horizontal flow\\nA complex web app displays a vertical side menu that gets scrolled further when the user focuses on the bottom of the menu\\n\\nWe can also break the continuity to separate the whole continuous flow into two or more groups:\\n\\nEvery modern menu uses visual separators to group related menu items by breaking the global menu item flow\\nSome websites render a different background color in sections to highlight a new section that is not connected to the previous one\\n\\nLaw of connectedness\\nThe law of connectedness states that visually connected elements are perceived as similar or related ones. The human brain perceives connections between visual entities and identifies all connected elements as one isolated entity from other disconnected elements.\\nFor example, we treat the key and the key tag as a single object rather than two separate objects since both objects are connected.\\n\\nThe above image shows how visual connections group four similar shapes into two groups.\\nUI/UX designers use the law of connectedness for grouping in the following example scenarios:\\n\\nTab groups usually connect the selected tab item and the tab page using the same background color for both elements\\nSecondary menus appear connected to the selected parent menu item for easier navigation\\nSome ecommerce web apps use a unified background color for product card elements to create a group\\nAn automobile seller website renders tags (i.e., urgent, used, unregistered, etc.) on several ad items by visually connecting each tag to item thumbnails\\nThe progress of a complex form is shown in connected steps to group every step and render as a single flow\\nSome popovers triggered by hovering UI elements may draw a visual connection using a speak balloon element to form a group\\nA toolbar of a software UI may connect several icon buttons to create groups based on their functionality\\n\\nHow do the Gestalt laws of grouping improve UX?\\nThe human brain naturally relaxes when the eyes perceive simple, organized visual elements. For example, despite the noise, we all feel more relaxed while walking near the beach than on a busy market street. However, the brain has to process more visual signals when we see complex visual entities.\\nGestalt grouping principles help us organize elements in a more human-friendly manner, so users had to understand the Gestalt-grouped elements with less cognitive load.\\nIf a UI fails to follow required Gestalt grouping principles, users may fail to interpret the intended grouping properly. As a result, users either misinterpret the grouping or will have to think further to understand the actual grouping created by the designer.\\nA quick example\\nLook at the following form that doesn’t adhere to Gestalt grouping principles properly:\\nA form that doesn’t use Gestalt grouping principles well\\nThe above form has the following issues with visual perception:\\n\\nForm element labels are not spaced well to show the related input box, and the form title is not distinguishable from the topmost label\\nMobile phone number input is separated into two input boxes, so some users may think the second input box is a different input box that misses a label due to a design mistake\\nThe city-input box breaks the input box flow and looks inconsistent\\nThe subscribe button also looks like an input box, and the form content near the subscribe button is packed together, causing less design quality and increased cognitive load for users\\n\\nLet’s apply Gestalt grouping laws to improve this form. Here, we can make the following modifications to solve the above issues:\\n\\nGroup input boxes and labels properly using the law of proximity and break the law of similarity in titles and labels by increasing the font size of the form title\\nMerge the mobile number input fields into one using the law of connectedness and use a masked mobile number input or country dropdown to select the country code\\nUsing the law of similarity and the law of continuity, share the common styles and placement with the city input box\\nUse an eye-catching background color for the subscribe button, and move the terms and conditions text with the button to the bottom of the screen, separating them from the whole form using the law of proximity\\n\\nHere is the improved subscription form after the UI/UX improvements:\\nA form that optimally uses Gestalt grouping principles\\nGestalt laws of grouping in action\\nNow that we know the theoretical aspects of Gestalt grouping principles and have discussed some practical examples, let’s explore the practical aspect by carefully examining the interfaces of a website and a mobile app.\\nCase study 1: Medium\\nMedium is a leading publication website that lets authors compose and publish articles for a large audience. Its minimal UI design effectively adheres to Gestalt principles.\\nIts minimal navigation bar uses the law of proximity and the law of similarity by using equal spacing between navigation items and sharing the same text style, as shown in the following preview:\\nThe primary navigation bar of Medium\\nAs you noticed, the navigation menu empowers the law of continuity by adding a shading effect for the first and last menu items and arrow icon signifiers.\\nMedium creates a visual rectangle around each article list item by arranging them in a rectangular shape using the law of closure to create article item groups. Article item thumbnails are aligned vertically, adhering to the law of continuity. It breaks the law of connectedness using an article item separator to empower the law of proximity:\\nThe article list of Medium\\nMedium groups the user menu items using proper spacing, similar styles, and alignment, adhering to all Gestalt grouping principles:\\nThe user menu of Medium\\nAs you noticed, it breaks the law of continuity by using a low-contrast separator to avoid unwanted eye-catching highlights. Even though logos are typically different, Medium tries to make them similar by making them circular, adhering to the law of similarity.\\nCase study 2: Uber\\nUber is a multinational transportation service provider app. It follows a minimal app design and group elements, effectively using Gestalt laws to offer a productive user experience for everyone.\\nThe home screen’s action cards draw a visual rectangle based on the sub-element arrangement using the law of closure and proper spacing to group action cards properly. Image thumbnails also use similar image effects and color palettes by maintaining the law of similarity, as shown in the following preview:\\nThe home screen of the Uber Android app\\nAlso, each list title is rendered closer to the list and away from the previous list, adhering to the law of proximity.\\nIn the services screen, Uber uses the law of similarity and the law of proximity to list available services effectively based on their popularity and frequency of use:\\n\\nUber uses the same style for all service categories — adhering to the law of similarity — but highlights the primary services using large category cards. As you can see, the first three services use somewhat larger cards than the rest. In the food delivery section, the design carefully chooses visually similar icons and styles for category cards.\\nThe bottom primary app menu also effectively uses every Gestalt principle by using similar icon designs and text styles with proper spacing.\\nUber’s map uses the law of connectedness by connecting the start and destination of the journey with an animated path that goes across the street map:\\nThe map screen of the Uber Android app\\nLook at the alignment of prices. The design uses the right alignment for monetary values, adhering to the law of continuity so that users can compare prices easily. Similar to the previous screen, this screen also uses the law of proximity well to group each transportation option.\\nAs you noticed, the action button section breaks the continuity of Uber options by its top border and solid background, properly separating the action area from the list.\\nMoreover, the icons for each transportation option are carefully designed with the same color scheme to maintain the law of similarity.\\nConclusion\\nThis article explored how Gestalt grouping laws help us create high-quality, usable UIs that reduce user cognitive load. We examined the practical usage of Gestalt principles using two popular software systems interfaces.\\nIf designers don’t properly group elements based on Gestalt principles, users may misinterpret the grouping and jump to false conclusions that prevent or delay achieving their interaction goals. Improper use of Gestalt principles may also lead to user confusion and frustration.\\nAs experienced UI/UX designers, we should optimally apply Gestalt principles to relevant visual entities, focusing on user understanding and productivity. Testing several versions of Gestalt-grouped designs is undoubtedly a better way to identify the most suitable grouping technique for a specific design segment.\\nGestalt grouping laws are not only a design technique for effective UI element grouping. They also help designers create human-friendly, self-explanatory logs, posters, signs, and any visual entity.\\nLogRocket: Analytics that give you UX insights without the need for interviewsLogRocket lets you replay users' product experiences to visualize struggle, see issues affecting adoption, and combine qualitative and quantitative data so you can create amazing digital experiences.See how design choices, interactions, and issues affect your users — get a demo of LogRocket today.\\n\\n\\n\\n\")]\n"
     ]
    }
   ],
   "source": [
    "print(docs)"
   ]
  },
  {
   "cell_type": "code",
   "execution_count": null,
   "metadata": {},
   "outputs": [],
   "source": []
  }
 ],
 "metadata": {
  "kernelspec": {
   "display_name": "Python 3",
   "language": "python",
   "name": "python3"
  },
  "language_info": {
   "codemirror_mode": {
    "name": "ipython",
    "version": 3
   },
   "file_extension": ".py",
   "mimetype": "text/x-python",
   "name": "python",
   "nbconvert_exporter": "python",
   "pygments_lexer": "ipython3",
   "version": "3.9.6"
  },
  "orig_nbformat": 4
 },
 "nbformat": 4,
 "nbformat_minor": 2
}
