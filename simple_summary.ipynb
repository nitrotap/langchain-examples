{
 "cells": [
  {
   "attachments": {},
   "cell_type": "markdown",
   "metadata": {},
   "source": [
    "# LangChain Chain Types: A Comprehensive Comparison\n",
    "\n",
    "LangChain provides several `chain_type` strategies to process, summarize, and interact with multiple documents to achieve various tasks like summarization, question answering, and more. Below is a detailed comparison of the common chain types used in LangChain.\n",
    "\n",
    "## 1. Map-Reduce\n",
    "The `map-reduce` approach is a well-known distributed data processing strategy that has been adapted for language model tasks involving multiple documents or large data.\n",
    "\n",
    "- **How It Works**:\n",
    "  - **Map Phase**: Each document is independently processed to generate an intermediate result. For example, the model answers a question or creates a summary for each document separately.\n",
    "  - **Reduce Phase**: The results from the map phase are then aggregated or summarized to create a final answer.\n",
    "\n",
    "- **Pros**:\n",
    "  - **Scalability**: It can process large volumes of documents since each document is handled independently. This makes it well-suited for large-scale datasets.\n",
    "  - **Parallel Processing**: The mapping phase can be parallelized, making it efficient for handling many documents.\n",
    "\n",
    "- **Cons**:\n",
    "  - **Context Loss**: Since each document is processed in isolation, there may be a lack of overall context or coherence when aggregating results.\n",
    "  - **Reduce Complexity**: The reduce step must be well-defined to merge diverse responses effectively, which can be challenging for complex questions.\n",
    "\n",
    "- **Best Use Cases**:\n",
    "  - Summarizing a large number of documents.\n",
    "  - Question answering from a broad set of documents.\n",
    "\n",
    "## 2. Refine\n",
    "The `refine` chain type is an iterative method that refines the output by taking the previous answer and adding to it with the context from each subsequent document.\n",
    "\n",
    "- **How It Works**:\n",
    "  - The first document is processed to generate an initial answer.\n",
    "  - Each subsequent document is used to refine the previous answer, incorporating additional context and modifying the response iteratively.\n",
    "\n",
    "- **Pros**:\n",
    "  - **Comprehensive Context**: Since each document is used to iteratively improve the answer, it ensures that every document contributes to the final output.\n",
    "  - **Logical Continuity**: The approach allows the response to grow and evolve logically, building on the context from previous documents.\n",
    "\n",
    "- **Cons**:\n",
    "  - **Sequential Processing**: It cannot be easily parallelized, as each step depends on the previous one.\n",
    "  - **Time-Consuming**: The iterative refinement process can be slower, especially when dealing with a large number of documents.\n",
    "\n",
    "- **Best Use Cases**:\n",
    "  - Long-form question answering where each document contributes additional details to the overall answer.\n",
    "  - Cases where maintaining a logical, evolving context is crucial.\n",
    "\n",
    "## 3. Map-Rerank\n",
    "The `map-rerank` approach is similar to `map-reduce` but with a focus on ranking rather than merging the responses.\n",
    "\n",
    "- **How It Works**:\n",
    "  - **Map Phase**: Each document is processed independently to generate a response.\n",
    "  - **Rerank Phase**: Each response is then scored based on its relevance or quality, and the highest-ranked response is selected.\n",
    "\n",
    "- **Pros**:\n",
    "  - **Relevance Focus**: Produces the most relevant response by selecting the highest-scoring result.\n",
    "  - **Efficiency**: Avoids aggregating diverse answers, simplifying the final output.\n",
    "\n",
    "- **Cons**:\n",
    "  - **Loss of Potentially Useful Context**: Some information from lower-ranked responses might be ignored, leading to loss of context.\n",
    "  - **Ranking Quality Dependence**: The final outcome depends on how effectively the responses are scored and ranked.\n",
    "\n",
    "- **Best Use Cases**:\n",
    "  - Retrieval-based tasks where a single, best answer is needed.\n",
    "  - Scenarios where focusing on the most relevant information is more important than combining all responses.\n",
    "\n",
    "## 4. Stuff\n",
    "The `stuff` approach is the simplest chain type that directly concatenates all the documents and feeds them to the model in a single pass.\n",
    "\n",
    "- **How It Works**:\n",
    "  - All the documents are concatenated to form one large input that is then fed to the model for a single summarization or answer generation.\n",
    "\n",
    "- **Pros**:\n",
    "  - **Full Context**: Since all the documents are concatenated, the model gets access to the entire context at once.\n",
    "  - **Simplicity**: Very straightforward and easy to implement.\n",
    "\n",
    "- **Cons**:\n",
    "  - **Token Limit Constraints**: The model has a token limit, which means it can only handle a small number of documents at a time if they are large.\n",
    "  - **Scalability Issues**: It is not suitable for large-scale document processing because of token size limitations.\n",
    "\n",
    "- **Best Use Cases**:\n",
    "  - Summarizing a few short documents that can easily fit into the model’s token limit.\n",
    "  - Cases where the complete context from all documents is important for the final answer.\n",
    "\n",
    "## Summary of Chain Types\n",
    "\n",
    "| Chain Type      | How It Works                      | Pros                                    | Cons                                     | Best Use Cases                         |\n",
    "|-----------------|-----------------------------------|-----------------------------------------|------------------------------------------|----------------------------------------|\n",
    "| **Map-Reduce**  | Independent summaries then merged | **Scalable**, **Parallelizable**        | **Context Loss**, **Complex Reduction**  | Summarizing large datasets, Q&A        |\n",
    "| **Refine**      | Iterative refinement of the answer | **Comprehensive**, **Context Continuity** | **Sequential**, **Slow**                 | Long-form Q&A, Building iterative context |\n",
    "| **Map-Rerank**  | Independent responses, then ranked | **Focus on Relevance**, **Efficient**   | **Potential Context Loss**               | Best-answer retrieval                  |\n",
    "| **Stuff**       | Concatenates all docs, single pass | **Full Context**, **Simple**            | **Token Limit**, **Not Scalable**        | Summarizing few short docs, Full context required |\n",
    "\n",
    "## Choosing the Right Chain Type\n",
    "- **If you have many documents and need an overview**: Use **Map-Reduce**. It is efficient for summarizing multiple documents independently and then combining them.\n",
    "- **If you need to iteratively build on context from each document**: Choose **Refine**. It helps in scenarios where logical evolution of the answer is required, providing a comprehensive view by iteratively refining the output.\n",
    "- **If relevance is the primary factor**: **Map-Rerank** is ideal when you need the single most relevant response from multiple documents. It helps in picking the top-quality content efficiently.\n",
    "- **If the number of documents is small, and all content needs to be considered together**: Use **Stuff**. It is useful when you can fit all documents into a single prompt, ensuring the full context is considered.\n",
    "\n",
    "## Combining Chain Types\n",
    "- **For Maximum Comprehensiveness**: Combine `Map-Reduce` with `Refine` for cases where you need both a broad overview and an iterative improvement to achieve depth.\n",
    "- **For Relevance and Context**: Use `Map-Rerank` to select the most relevant content, then use `Refine` to enhance and build upon it for a coherent output.\n",
    "\n",
    "Each chain type has strengths that align with different document processing needs, so understanding these differences can help in selecting the best chain for a specific use case or combining them effectively for maximum benefit.\n"
   ]
  },
  {
   "cell_type": "code",
   "execution_count": null,
   "metadata": {},
   "outputs": [],
   "source": [
    "%pip install langchain tiktoken"
   ]
  },
  {
   "cell_type": "code",
   "execution_count": 2,
   "metadata": {},
   "outputs": [],
   "source": [
    "from langchain_ollama import OllamaLLM\n",
    "\n",
    "llm = OllamaLLM(model=\"llama3.2\")"
   ]
  },
  {
   "cell_type": "code",
   "execution_count": 10,
   "metadata": {},
   "outputs": [
    {
     "name": "stdout",
     "output_type": "stream",
     "text": [
      "Note: you may need to restart the kernel to use updated packages.\n",
      "Note: you may need to restart the kernel to use updated packages.\n",
      "This is a transcript of a city council meeting, where members discuss various issues and make decisions on policies and projects. The conversation revolves around several topics, including:\n",
      "\n",
      "1. Road alignment and construction: The discussion focuses on the proposed alignment for the road in Moris Canyon, which was previously a state highway. The council debates the feasibility of paving the road versus installing a gravel shoulder to improve safety.\n",
      "2. Grant funding: A letter from Donna Leonetti highlights the city's secure grant funding until 2033, providing reassurance about future projects and initiatives.\n",
      "3. Public property maintenance: Council members discuss the need to maintain public properties, particularly in areas like Main Street Live, where private property owners have neglected their lawns and landscaping.\n",
      "4. Community events: The discussion touches on a recent survey from the Legal Resource Day, which was well-received by attendees.\n",
      "5. Adjournment: The meeting concludes with a motion to adjourn, followed by a vote of approval.\n",
      "\n",
      "Throughout the conversation, council members express appreciation for each other's work and contributions to the community.\n"
     ]
    }
   ],
   "source": [
    "%pip install --upgrade --quiet  youtube-transcript-api\n",
    "%pip install --upgrade --quiet  pytube\n",
    "\n",
    "from langchain_community.document_loaders import YoutubeLoader\n",
    "\n",
    "loader = YoutubeLoader.from_youtube_url(\n",
    "    \"https://www.youtube.com/watch?v=BqbIRiYXd3U\", add_video_info=False\n",
    ")\n",
    "# load the youtube video caption into Documents\n",
    "docs = loader.load()\n",
    "# # check how many characters in the doc and some content\n",
    "len(docs[0].page_content), docs[0].page_content[:300], len(docs)\n",
    "text = docs[0].page_content\n",
    "summary = llm.invoke(f\"Give me a summary of the text below: {text}.\")\n",
    "print(summary)"
   ]
  },
  {
   "cell_type": "code",
   "execution_count": 11,
   "metadata": {},
   "outputs": [
    {
     "data": {
      "text/plain": [
       "(19, 1, 4655, 88209)"
      ]
     },
     "execution_count": 11,
     "metadata": {},
     "output_type": "execute_result"
    }
   ],
   "source": [
    "from langchain.text_splitter import RecursiveCharacterTextSplitter\n",
    "\n",
    "# create splits from content\n",
    "text_splitter = RecursiveCharacterTextSplitter.from_tiktoken_encoder(\n",
    "    chunk_size=1000, chunk_overlap=0\n",
    ")\n",
    "split_docs = text_splitter.split_documents(docs)\n",
    "# check length\n",
    "len(split_docs), len(docs), len(split_docs[0].page_content), len(docs[0].page_content)\n"
   ]
  },
  {
   "cell_type": "code",
   "execution_count": 12,
   "metadata": {},
   "outputs": [
    {
     "name": "stderr",
     "output_type": "stream",
     "text": [
      "/var/folders/bv/01rc_d8n7tdgkwp7g9bvp4p40000gn/T/ipykernel_4632/1726956926.py:4: LangChainDeprecationWarning: The method `Chain.run` was deprecated in langchain 0.1.0 and will be removed in 1.0. Use :meth:`~invoke` instead.\n",
      "  refineResult = chain.run(split_docs)\n"
     ]
    }
   ],
   "source": [
    "from langchain.chains.summarize import load_summarize_chain\n",
    "\n",
    "chain = load_summarize_chain(llm, chain_type=\"refine\")\n",
    "refineResult = chain.run(split_docs)\n",
    "summaries = []\n",
    "summaries.append(refineResult)"
   ]
  },
  {
   "cell_type": "code",
   "execution_count": 13,
   "metadata": {},
   "outputs": [],
   "source": [
    "chain = load_summarize_chain(llm, chain_type=\"stuff\")\n",
    "stuffResult = chain.run(split_docs)\n",
    "summaries.append(stuffResult)"
   ]
  },
  {
   "cell_type": "code",
   "execution_count": 14,
   "metadata": {},
   "outputs": [
    {
     "name": "stderr",
     "output_type": "stream",
     "text": [
      "Token indices sequence length is longer than the specified maximum sequence length for this model (2776 > 1024). Running this sequence through the model will result in indexing errors\n"
     ]
    }
   ],
   "source": [
    "## shorter summary\n",
    "chain = load_summarize_chain(llm, chain_type=\"map_reduce\") # another option is map-rerank\n",
    "map_reduceResult = chain.run(split_docs)\n",
    "summaries.append(map_reduceResult)"
   ]
  },
  {
   "cell_type": "code",
   "execution_count": 16,
   "metadata": {},
   "outputs": [
    {
     "name": "stdout",
     "output_type": "stream",
     "text": [
      "[Document(metadata={'source': 'temp_texts.txt'}, page_content=\"Based on the additional context provided, here is a refined summary:\\n\\nThe Main Street Board has made significant progress in revitalizing downtown Trinidad and achieving national accreditation. The board is working towards financial sustainability to achieve this goal, with a focus on leveraging data and analytics to inform their decisions.\\n\\nThanks to city support, the Main Street Board has secured grants for various initiatives, including hosting the 2025 State of Colorado Farmers Market Conference and securing funding for senior programs. They are also exploring opportunities for historic decorations downtown and developing a working plan with the Department of Local Affairs.\\n\\nNotably, the board's efforts have led to impressive results:\\n\\n* 52 new businesses opened in Trinidad, creating approximately 270 jobs\\n* $76 million in public and private partnership investments in the downtown area\\n* 25 buildings affected by Main Street initiatives between 2023 and 2024\\n\\nHowever, concerns were raised regarding emergency services funding and insurance billing. The board is exploring ways to address potential regulatory challenges related to licensed natural medicine centers.\\n\\nThe board's progress highlights the importance of collaboration, community involvement, and planning in supporting local economic development and historic preservation initiatives. Additionally, the board's efforts demonstrate the need for careful budgeting and prioritization to address emerging issues, such as the transfer of funds from the capital fund to cover expenses related to animal shelters and sales tax collections.\\n\\nRegarding the Santa Fe Trail project, the city is facing challenges due to grant funding complexities and environmental regulations. The board has secured $2 million in federal grant funding for the project, but must navigate state and federal approval processes, as well as environmental assessments, before proceeding with construction.\\n\\nFurthermore, the Main Street Board is also addressing concerns about private property issues, including a section of Main Street that requires attention due to overgrown vegetation and potential infrastructure needs. The board is exploring options for addressing these issues while minimizing disruption to the area.\\n\\nDespite these challenges, the Main Street Board's efforts demonstrate the potential for downtown revitalization to benefit both local businesses and residents. The city will continue to prioritize the board's initiatives, ensuring that financial sustainability is achieved through strategic planning and collaboration with stakeholders.\\n\\nOverall, the Main Street Board's progress underscores the importance of effective governance, community engagement, and forward-thinking planning in driving economic growth and preserving historic assets.\\nThe meeting appears to be an agenda-less council meeting, where various members of the community and city officials discuss issues and provide updates on ongoing projects. The topics discussed include:\\n\\n* A proposed road realignment project for Main Street Live, which is still in the planning stages due to environmental and regulatory concerns.\\n* A gas line project that requires excavation through a private property with trees that have damaged the sidewalk.\\n* A grant funding proposal that has been secured until 2033.\\n* An upcoming survey from the legal resource center that was well-received by attendees.\\n\\nThe meeting concludes with an adjournment motion.\\nHere is a concise summary:\\n\\n**City Council Meeting**\\n\\n* Approved budget ordinance for Fiscal Year 2025, which includes an $8.4 million increase over the previous year.\\n* Awarded contract to Cedar Ridge Landscape Incorporated for curb cuts and sidewalks project required by the Department of Justice.\\n* Approved introduction of ordinance setting public hearing for December 17th, 2024, to discuss budget changes.\\n* Reviewed budget, considering moving $180,000 from Capital Fund to General Fund and reducing contingency funding from 1% to 0.5%.\\n* Discussed city's budget, addressing unaccounted expenses related to animal shelter and sales tax collections for 2024.\\n* Amended ordinance regulating psilocybin (mushroom) centers to address issue with distance between healing centers.\\n\\n**Other Topics**\\n\\n* City manager reported on state regulations for psilocybin centers, proposal to spread property tax payments over 12 months, and upcoming construction projects.\\n* Discussion of Santa Fe Trail project, which is receiving grant funding from the state.\\n\")]\n"
     ]
    }
   ],
   "source": [
    "# tl;dr generator\n",
    "from langchain_community.document_loaders import TextLoader\n",
    "\n",
    "# for summary in summaries:\n",
    "#     with open(f'temp_texts{summary[0]}.txt', 'w') as f:\n",
    "\n",
    "\n",
    "with open('temp_texts.txt', 'w') as f:\n",
    "    for summary in summaries:\n",
    "        f.write(summary + '\\n')\n",
    "\n",
    "text_loader = TextLoader('temp_texts.txt')\n",
    "summary_docs = text_loader.load();\n",
    "print(summary_docs)\n",
    "split_summaries = text_splitter.split_documents(summary_docs)\n",
    "\n",
    "final_chain = load_summarize_chain(llm, chain_type=\"stuff\")\n",
    "tldr = final_chain.run(split_summaries)"
   ]
  },
  {
   "cell_type": "code",
   "execution_count": 17,
   "metadata": {},
   "outputs": [
    {
     "name": "stdout",
     "output_type": "stream",
     "text": [
      "[\"Based on the additional context provided, here is a refined summary:\\n\\nThe Main Street Board has made significant progress in revitalizing downtown Trinidad and achieving national accreditation. The board is working towards financial sustainability to achieve this goal, with a focus on leveraging data and analytics to inform their decisions.\\n\\nThanks to city support, the Main Street Board has secured grants for various initiatives, including hosting the 2025 State of Colorado Farmers Market Conference and securing funding for senior programs. They are also exploring opportunities for historic decorations downtown and developing a working plan with the Department of Local Affairs.\\n\\nNotably, the board's efforts have led to impressive results:\\n\\n* 52 new businesses opened in Trinidad, creating approximately 270 jobs\\n* $76 million in public and private partnership investments in the downtown area\\n* 25 buildings affected by Main Street initiatives between 2023 and 2024\\n\\nHowever, concerns were raised regarding emergency services funding and insurance billing. The board is exploring ways to address potential regulatory challenges related to licensed natural medicine centers.\\n\\nThe board's progress highlights the importance of collaboration, community involvement, and planning in supporting local economic development and historic preservation initiatives. Additionally, the board's efforts demonstrate the need for careful budgeting and prioritization to address emerging issues, such as the transfer of funds from the capital fund to cover expenses related to animal shelters and sales tax collections.\\n\\nRegarding the Santa Fe Trail project, the city is facing challenges due to grant funding complexities and environmental regulations. The board has secured $2 million in federal grant funding for the project, but must navigate state and federal approval processes, as well as environmental assessments, before proceeding with construction.\\n\\nFurthermore, the Main Street Board is also addressing concerns about private property issues, including a section of Main Street that requires attention due to overgrown vegetation and potential infrastructure needs. The board is exploring options for addressing these issues while minimizing disruption to the area.\\n\\nDespite these challenges, the Main Street Board's efforts demonstrate the potential for downtown revitalization to benefit both local businesses and residents. The city will continue to prioritize the board's initiatives, ensuring that financial sustainability is achieved through strategic planning and collaboration with stakeholders.\\n\\nOverall, the Main Street Board's progress underscores the importance of effective governance, community engagement, and forward-thinking planning in driving economic growth and preserving historic assets.\", 'The meeting appears to be an agenda-less council meeting, where various members of the community and city officials discuss issues and provide updates on ongoing projects. The topics discussed include:\\n\\n* A proposed road realignment project for Main Street Live, which is still in the planning stages due to environmental and regulatory concerns.\\n* A gas line project that requires excavation through a private property with trees that have damaged the sidewalk.\\n* A grant funding proposal that has been secured until 2033.\\n* An upcoming survey from the legal resource center that was well-received by attendees.\\n\\nThe meeting concludes with an adjournment motion.', \"Here is a concise summary:\\n\\n**City Council Meeting**\\n\\n* Approved budget ordinance for Fiscal Year 2025, which includes an $8.4 million increase over the previous year.\\n* Awarded contract to Cedar Ridge Landscape Incorporated for curb cuts and sidewalks project required by the Department of Justice.\\n* Approved introduction of ordinance setting public hearing for December 17th, 2024, to discuss budget changes.\\n* Reviewed budget, considering moving $180,000 from Capital Fund to General Fund and reducing contingency funding from 1% to 0.5%.\\n* Discussed city's budget, addressing unaccounted expenses related to animal shelter and sales tax collections for 2024.\\n* Amended ordinance regulating psilocybin (mushroom) centers to address issue with distance between healing centers.\\n\\n**Other Topics**\\n\\n* City manager reported on state regulations for psilocybin centers, proposal to spread property tax payments over 12 months, and upcoming construction projects.\\n* Discussion of Santa Fe Trail project, which is receiving grant funding from the state.\"]\n"
     ]
    }
   ],
   "source": [
    "# print(refineResult)\n",
    "print(summaries)\n",
    "# print(docs)\n",
    "# len(tldr), len(refineResult), len(map_reduceResult)\n",
    "# print(tldr, refineResult, map_reduceResult)"
   ]
  }
 ],
 "metadata": {
  "kernelspec": {
   "display_name": "Python 3",
   "language": "python",
   "name": "python3"
  },
  "language_info": {
   "codemirror_mode": {
    "name": "ipython",
    "version": 3
   },
   "file_extension": ".py",
   "mimetype": "text/x-python",
   "name": "python",
   "nbconvert_exporter": "python",
   "pygments_lexer": "ipython3",
   "version": "3.11.9"
  },
  "orig_nbformat": 4
 },
 "nbformat": 4,
 "nbformat_minor": 2
}
