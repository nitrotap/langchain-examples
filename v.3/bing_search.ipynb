{
 "cells": [
  {
   "cell_type": "code",
   "execution_count": 2,
   "metadata": {},
   "outputs": [],
   "source": [
    "# Add Bing Search Tool\n",
    "def bing_search(query: str):\n",
    "    \"\"\"\n",
    "    Perform a Bing search and return the top search results.\n",
    "    \n",
    "    Args:\n",
    "        query (str): The search query.\n",
    "    \n",
    "    Returns:\n",
    "        List[Dict[str, str]]: A list of search results, where each result contains\n",
    "                              a title, link, and snippet.\n",
    "    \"\"\"\n",
    "    import requests\n",
    "    from bs4 import BeautifulSoup\n",
    "\n",
    "    url = f\"https://www.bing.com/search?q={query}\"\n",
    "    headers = {\n",
    "        \"User-Agent\": \"Mozilla/5.0 (Windows NT 10.0; Win64; x64) AppleWebKit/537.36 (KHTML, like Gecko) Chrome/91.0.4472.124 Safari/537.36\"\n",
    "    }\n",
    "    response = requests.get(url, headers=headers)\n",
    "    if response.status_code != 200:\n",
    "        return [{\"error\": f\"Failed to fetch search results. Status code: {response.status_code}\"}]\n",
    "\n",
    "    soup = BeautifulSoup(response.text, \"html.parser\")\n",
    "    results = []\n",
    "\n",
    "    for item in soup.select(\".b_algo\"):\n",
    "        title_tag = item.select_one(\"h2 a\")\n",
    "        snippet_tag = item.select_one(\".b_caption p\")\n",
    "\n",
    "        if title_tag and title_tag.get(\"href\"):\n",
    "            results.append({\n",
    "                \"title\": title_tag.text.strip(),\n",
    "                \"link\": title_tag[\"href\"],\n",
    "                \"snippet\": snippet_tag.text.strip() if snippet_tag else \"\"\n",
    "            })\n",
    "\n",
    "    return results\n"
   ]
  },
  {
   "cell_type": "code",
   "execution_count": 3,
   "metadata": {},
   "outputs": [
    {
     "data": {
      "text/plain": [
       "[{'title': 'COBOL - Wikipedia',\n",
       "  'link': 'https://en.wikipedia.org/wiki/COBOL',\n",
       "  'snippet': 'COBOL (/ ˈkoʊbɒl, - bɔːl /; an acronym for \"common business-oriented language\") is a compiled English-like computer programming language designed for business use. It is an imperative, procedural, and, since 2002, object-oriented language. COBOL is primarily used in business, finance, and administrative systems for companies and governments.'},\n",
       " {'title': 'COBOL Tutorial',\n",
       "  'link': 'https://www.tutorialspoint.com/cobol/index.htm',\n",
       "  'snippet': 'Common Business Oriented Language (COBOL) is one of the oldest high-level programming languages. It was developed in the late 1950s for business applications and administrative systems. COBOL is known for its readability and easy-to-understand syntax that resembles natural English.'},\n",
       " {'title': 'What is COBOL? - IBM',\n",
       "  'link': 'https://www.ibm.com/topics/cobol',\n",
       "  'snippet': 'Mar 24, 2024\\xa0· Common business-oriented language (COBOL) is a high-level, English-like, compiled programming language developed specifically for business data processing needs.'},\n",
       " {'title': 'What is COBOL and Who Still Uses It? - CBT Nuggets',\n",
       "  'link': 'https://www.cbtnuggets.com/blog/technology/programming/what-is-cobol-and-who-still-uses-it',\n",
       "  'snippet': 'Oct 23, 2024\\xa0· COBOL, or COmmon Business-Oriented Language, is a procedural programming language created in 1959 focused on readability, self-documentation, and ease of use. Procedural programming means a programmer tells the computer what to do step by step.'},\n",
       " {'title': 'COBOL - IBM Developer',\n",
       "  'link': 'https://developer.ibm.com/languages/cobol/',\n",
       "  'snippet': \"COBOL, or Common Business-Oriented Language, was designed specifically for business. COBOL is responsible for the efficient, reliable, secure, and unseen day-to-day operations of the world's economy. The day-to-day logic used to process our most critical data is frequently done using COBOL. Exciting new user experience!\"},\n",
       " {'title': 'COBOL Tutorial | Mainframestechhelp',\n",
       "  'link': 'https://www.mainframestechhelp.com/tutorials/cobol/',\n",
       "  'snippet': 'In this tutorial, all the topics are covered with in-depth information that includes examples and useful to improve your COBOL programming skills. There are no prerequisites to learn the COBOL language. Having a computation background will be an advantage in understanding the concepts a bit easier.'},\n",
       " {'title': 'What Is COBOL, and Why Do So Many Institutions Rely on It? - How-To Geek',\n",
       "  'link': 'https://www.howtogeek.com/667596/what-is-cobol-and-why-do-so-many-institutions-rely-on-it/',\n",
       "  'snippet': 'Apr 15, 2020\\xa0· COBOL is the foundation of 43 percent of all banking systems. Systems powered by COBOL handle $3 trillion of daily commerce. COBOL handles 95 percent of all ATM card-swipes.'},\n",
       " {'title': 'COBOL | Definition & Facts | Britannica',\n",
       "  'link': 'https://www.britannica.com/technology/COBOL',\n",
       "  'snippet': '6 days ago\\xa0· COBOL, high-level computer programming language, one of the first widely used languages and for many years the most popular language in the business community. It developed from the 1959 Conference on Data Systems Languages, a joint initiative between the U.S. government and the private sector.'},\n",
       " {'title': 'IBM COBOL - Wikipedia',\n",
       "  'link': 'https://en.wikipedia.org/wiki/IBM_COBOL',\n",
       "  'snippet': 'IBM has offered the computer programming language COBOL on many platforms, starting with the IBM 1400 series and IBM 7000 series, continuing into the industry-dominant IBM System/360 and IBM System/370 mainframe systems, and then through IBM Power Systems (AIX), IBM Z (z/OS and z/VSE), and x86 (Linux).'},\n",
       " {'title': 'What is COBOL? COBOL programming explained - InfoWorld',\n",
       "  'link': 'https://www.infoworld.com/article/2257372/what-is-cobol-cobol-programming-explained.html',\n",
       "  'snippet': 'Apr 29, 2020\\xa0· Far from an obsolescent technology we’ve happily parted company with, COBOL has become an institution. Massive COBOL codebases are still in use around the world, many of them running almost...'}]"
      ]
     },
     "execution_count": 3,
     "metadata": {},
     "output_type": "execute_result"
    }
   ],
   "source": [
    "bing_search('cobol')"
   ]
  }
 ],
 "metadata": {
  "kernelspec": {
   "display_name": "Python 3",
   "language": "python",
   "name": "python3"
  },
  "language_info": {
   "codemirror_mode": {
    "name": "ipython",
    "version": 3
   },
   "file_extension": ".py",
   "mimetype": "text/x-python",
   "name": "python",
   "nbconvert_exporter": "python",
   "pygments_lexer": "ipython3",
   "version": "3.11.9"
  }
 },
 "nbformat": 4,
 "nbformat_minor": 2
}
