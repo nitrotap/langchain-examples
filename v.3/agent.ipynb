{
 "cells": [
  {
   "cell_type": "code",
   "execution_count": 1,
   "metadata": {},
   "outputs": [
    {
     "name": "stdout",
     "output_type": "stream",
     "text": [
      "Note: you may need to restart the kernel to use updated packages.\n",
      "Note: you may need to restart the kernel to use updated packages.\n",
      "Note: you may need to restart the kernel to use updated packages.\n",
      "Note: you may need to restart the kernel to use updated packages.\n"
     ]
    }
   ],
   "source": [
    "# Document loading, retrieval methods and text splitting\n",
    "%pip install -qU langchain langchain_community langchain_anthropic langchain_core langgraph duckduckgo-search langsmith\n",
    "\n",
    "\n",
    "# Local vector store via Chroma\n",
    "%pip install -qU langchain_chroma\n",
    "\n",
    "# Local inference and embeddings via Ollama\n",
    "%pip install -qU langchain_ollama\n",
    "\n",
    "# Web Loader\n",
    "%pip install -qU beautifulsoup4"
   ]
  },
  {
   "cell_type": "code",
   "execution_count": 2,
   "metadata": {},
   "outputs": [],
   "source": [
    "\n",
    "import getpass\n",
    "import os\n",
    "\n",
    "os.environ[\"LANGCHAIN_TRACING_V2\"] = \"true\"\n",
    "os.environ[\"LANGCHAIN_API_KEY\"] = getpass.getpass()"
   ]
  },
  {
   "cell_type": "code",
   "execution_count": 3,
   "metadata": {},
   "outputs": [
    {
     "name": "stdout",
     "output_type": "stream",
     "text": [
      "{'agent': {'messages': [AIMessage(content='', additional_kwargs={}, response_metadata={'model': 'llama3.2', 'created_at': '2024-12-21T09:10:34.37579Z', 'done': True, 'done_reason': 'stop', 'total_duration': 1040395667, 'load_duration': 567824042, 'prompt_eval_count': 189, 'prompt_eval_duration': 253000000, 'eval_count': 21, 'eval_duration': 217000000, 'message': Message(role='assistant', content='', images=None, tool_calls=None)}, id='run-faf6fa30-95d5-4a6c-8f40-b636558f8c3b-0', tool_calls=[{'name': 'duckduckgo_results_json', 'args': {'query': 'San Francisco'}, 'id': '2328de0c-b662-4d1d-bf52-5c6b282e9667', 'type': 'tool_call'}], usage_metadata={'input_tokens': 189, 'output_tokens': 21, 'total_tokens': 210})]}}\n",
      "----\n",
      "{'tools': {'messages': [ToolMessage(content=\"snippet: San Francisco, city and port, coextensive with San Francisco county, northern California, U.S., located on a peninsula between the Pacific Ocean and San Francisco Bay. It is a cultural and financial centre of the western United States and one of the country's most cosmopolitan cities. Area 46 square miles (120 square km). Pop., title: San Francisco | History, Population, Climate, Map, & Facts | Britannica, link: https://www.britannica.com/place/San-Francisco-California, snippet: The actual span of the Golden Gate National Recreation Area encompasses multiple places in San Mateo (south of San Francisco), San Francisco and Marin counties (Alcatraz and Muir Woods included ..., title: 30 Top-Rated Things to Do in San Francisco | U.S. News Travel, link: https://travel.usnews.com/San_Francisco_CA/Things_To_Do/, snippet: San Francisco Airport reported a wind gust of 72 knots (83 mph) at the time the storm passed by. Videos show extreme winds shaking palm trees in San Francisco and downed trees and power lines., title: Downtown San Francisco experiences first tornado warning in recorded ..., link: https://www.cnn.com/2024/12/14/us/san-francisco-tornado-warning/index.html, snippet: Today San Francisco's Mission District is an urban-art showstopper, featuring more than 400 murals throughout the neighborhood. Planning tip: Head to Balmy Alley for some of the oldest murals, while 24th St and the landmark San Francisco Women's Building are covered with glorious portrayals of community pride and political dissent., title: The 16 best things to do in San Francisco - Lonely Planet, link: https://www.lonelyplanet.com/articles/top-things-to-do-in-san-francisco\", name='duckduckgo_results_json', id='85c475a1-1a32-4573-94bc-2b128b6b8ae2', tool_call_id='2328de0c-b662-4d1d-bf52-5c6b282e9667', artifact=[{'snippet': \"San Francisco, city and port, coextensive with San Francisco county, northern California, U.S., located on a peninsula between the Pacific Ocean and San Francisco Bay. It is a cultural and financial centre of the western United States and one of the country's most cosmopolitan cities. Area 46 square miles (120 square km). Pop.\", 'title': 'San Francisco | History, Population, Climate, Map, & Facts | Britannica', 'link': 'https://www.britannica.com/place/San-Francisco-California'}, {'snippet': 'The actual span of the Golden Gate National Recreation Area encompasses multiple places in San Mateo (south of San Francisco), San Francisco and Marin counties (Alcatraz and Muir Woods included ...', 'title': '30 Top-Rated Things to Do in San Francisco | U.S. News Travel', 'link': 'https://travel.usnews.com/San_Francisco_CA/Things_To_Do/'}, {'snippet': 'San Francisco Airport reported a wind gust of 72 knots (83 mph) at the time the storm passed by. Videos show extreme winds shaking palm trees in San Francisco and downed trees and power lines.', 'title': 'Downtown San Francisco experiences first tornado warning in recorded ...', 'link': 'https://www.cnn.com/2024/12/14/us/san-francisco-tornado-warning/index.html'}, {'snippet': \"Today San Francisco's Mission District is an urban-art showstopper, featuring more than 400 murals throughout the neighborhood. Planning tip: Head to Balmy Alley for some of the oldest murals, while 24th St and the landmark San Francisco Women's Building are covered with glorious portrayals of community pride and political dissent.\", 'title': 'The 16 best things to do in San Francisco - Lonely Planet', 'link': 'https://www.lonelyplanet.com/articles/top-things-to-do-in-san-francisco'}])]}}\n",
      "----\n",
      "{'agent': {'messages': [AIMessage(content=\"Hi Bob! So you live in San Francisco. That's a great city with a lot of history and culture. Some popular things to do in SF include exploring the Golden Gate National Recreation Area, which includes Alcatraz Island and Muir Woods. You can also check out the vibrant Mission District, known for its street art and murals.\\n\\nIf you're looking for something to do outdoors, consider taking a walk along the waterfront or visiting one of the many parks in the city. And if you're feeling adventurous, take a stroll across the iconic Golden Gate Bridge.\\n\\nSan Francisco is also a great place to experience different cultures and cuisines. From Chinese food in Chinatown to Italian food in North Beach, there's something for everyone.\\n\\nWhat do you like to do in your free time, Bob?\", additional_kwargs={}, response_metadata={'model': 'llama3.2', 'created_at': '2024-12-21T09:10:38.309378Z', 'done': True, 'done_reason': 'stop', 'total_duration': 2578388667, 'load_duration': 28939833, 'prompt_eval_count': 473, 'prompt_eval_duration': 413000000, 'eval_count': 162, 'eval_duration': 1821000000, 'message': Message(role='assistant', content=\"Hi Bob! So you live in San Francisco. That's a great city with a lot of history and culture. Some popular things to do in SF include exploring the Golden Gate National Recreation Area, which includes Alcatraz Island and Muir Woods. You can also check out the vibrant Mission District, known for its street art and murals.\\n\\nIf you're looking for something to do outdoors, consider taking a walk along the waterfront or visiting one of the many parks in the city. And if you're feeling adventurous, take a stroll across the iconic Golden Gate Bridge.\\n\\nSan Francisco is also a great place to experience different cultures and cuisines. From Chinese food in Chinatown to Italian food in North Beach, there's something for everyone.\\n\\nWhat do you like to do in your free time, Bob?\", images=None, tool_calls=None)}, id='run-9cd9df93-ca06-4223-a63e-a65e4eba3331-0', usage_metadata={'input_tokens': 473, 'output_tokens': 162, 'total_tokens': 635})]}}\n",
      "----\n",
      "{'agent': {'messages': [AIMessage(content='', additional_kwargs={}, response_metadata={'model': 'llama3.2', 'created_at': '2024-12-21T09:10:38.728023Z', 'done': True, 'done_reason': 'stop', 'total_duration': 407790417, 'load_duration': 11004292, 'prompt_eval_count': 775, 'prompt_eval_duration': 146000000, 'eval_count': 22, 'eval_duration': 246000000, 'message': Message(role='assistant', content='', images=None, tool_calls=None)}, id='run-e75a20e6-f847-4b97-94e6-8bd15bfbae88-0', tool_calls=[{'name': 'duckduckgo_results_json', 'args': {'query': 'San Francisco weather'}, 'id': '47f69429-a7f2-4f7a-ad6d-e740ac57b7b8', 'type': 'tool_call'}], usage_metadata={'input_tokens': 775, 'output_tokens': 22, 'total_tokens': 797})]}}\n",
      "----\n",
      "{'tools': {'messages': [ToolMessage(content=\"Error: RatelimitException('https://links.duckduckgo.com/d.js?q=San+Francisco+weather&kl=wt-wt&l=wt-wt&p=&s=0&df=y&vqd=4-176756584033074366419746964403817281173&bing_market=wt-WT&ex=-1 202 Ratelimit')\\n Please fix your mistakes.\", name='duckduckgo_results_json', id='a804d96e-599f-41ab-b28a-3a8b9ddd1540', tool_call_id='47f69429-a7f2-4f7a-ad6d-e740ac57b7b8', status='error')]}}\n",
      "----\n",
      "{'agent': {'messages': [AIMessage(content=\"I apologize for the rate limit error! It looks like the weather API request exceeded the limit.\\n\\nInstead, I can suggest some ways to find out the current weather in San Francisco:\\n\\n1. Check online weather websites: You can visit websites like AccuWeather, Weather.com, or the National Weather Service (NWS) for up-to-date weather forecasts and conditions.\\n2. Use a voice assistant: You can ask virtual assistants like Siri, Google Assistant, or Alexa to give you the current weather in San Francisco.\\n3. Check social media: Many cities, including San Francisco, have official Twitter accounts that post updates on the weather.\\n\\nIf you'd like, I can try to find some general information about the typical weather patterns in San Francisco. Would you like me to do that?\", additional_kwargs={}, response_metadata={'model': 'llama3.2', 'created_at': '2024-12-21T09:10:41.320635Z', 'done': True, 'done_reason': 'stop', 'total_duration': 2077030667, 'load_duration': 26277167, 'prompt_eval_count': 769, 'prompt_eval_duration': 154000000, 'eval_count': 158, 'eval_duration': 1889000000, 'message': Message(role='assistant', content=\"I apologize for the rate limit error! It looks like the weather API request exceeded the limit.\\n\\nInstead, I can suggest some ways to find out the current weather in San Francisco:\\n\\n1. Check online weather websites: You can visit websites like AccuWeather, Weather.com, or the National Weather Service (NWS) for up-to-date weather forecasts and conditions.\\n2. Use a voice assistant: You can ask virtual assistants like Siri, Google Assistant, or Alexa to give you the current weather in San Francisco.\\n3. Check social media: Many cities, including San Francisco, have official Twitter accounts that post updates on the weather.\\n\\nIf you'd like, I can try to find some general information about the typical weather patterns in San Francisco. Would you like me to do that?\", images=None, tool_calls=None)}, id='run-7768d4b6-3605-4139-96c1-6fae262f14ad-0', usage_metadata={'input_tokens': 769, 'output_tokens': 158, 'total_tokens': 927})]}}\n",
      "----\n"
     ]
    }
   ],
   "source": [
    "# Import relevant functionality\n",
    "from langchain_anthropic import ChatAnthropic\n",
    "from langchain_community.tools.tavily_search import TavilySearchResults\n",
    "from langchain_core.messages import HumanMessage\n",
    "from langchain_ollama import ChatOllama, OllamaLLM\n",
    "from langgraph.checkpoint.memory import MemorySaver\n",
    "from langgraph.prebuilt import create_react_agent\n",
    "from langchain_community.tools import DuckDuckGoSearchResults\n",
    "\n",
    "# Create the agent\n",
    "memory = MemorySaver()\n",
    "model = ChatOllama(model=\"llama3.2\")\n",
    "search = DuckDuckGoSearchResults()\n",
    "tools = [search]\n",
    "agent_executor = create_react_agent(model, tools, checkpointer=memory)\n",
    "\n",
    "# Use the agent\n",
    "config = {\"configurable\": {\"thread_id\": \"abc123\"}}\n",
    "from langchain_core.tracers.context import tracing_v2_enabled\n",
    "with tracing_v2_enabled():\n",
    "    for chunk in agent_executor.stream(\n",
    "        {\"messages\": [HumanMessage(content=\"hi im bob! and i live in sf\")]}, config\n",
    "    ):\n",
    "        print(chunk)\n",
    "        print(\"----\")\n",
    "\n",
    "from langchain_core.tracers.context import tracing_v2_enabled\n",
    "with tracing_v2_enabled():\n",
    "    for chunk in agent_executor.stream(\n",
    "        {\"messages\": [HumanMessage(content=\"whats the weather where I live?\")]}, config\n",
    "    ):\n",
    "        print(chunk)\n",
    "        print(\"----\")"
   ]
  }
 ],
 "metadata": {
  "kernelspec": {
   "display_name": "Python 3",
   "language": "python",
   "name": "python3"
  },
  "language_info": {
   "codemirror_mode": {
    "name": "ipython",
    "version": 3
   },
   "file_extension": ".py",
   "mimetype": "text/x-python",
   "name": "python",
   "nbconvert_exporter": "python",
   "pygments_lexer": "ipython3",
   "version": "3.11.9"
  }
 },
 "nbformat": 4,
 "nbformat_minor": 2
}
